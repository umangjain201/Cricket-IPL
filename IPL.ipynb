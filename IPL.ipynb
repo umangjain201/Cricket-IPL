{
 "cells": [
  {
   "cell_type": "code",
   "execution_count": 1,
   "id": "6798291d-07b8-4900-a653-1245b471e400",
   "metadata": {},
   "outputs": [],
   "source": [
    "import pandas as pd\n",
    "import matplotlib.pyplot as plt\n",
    "import seaborn as sns\n",
    "%matplotlib inline\n",
    "import calendar as cld\n",
    "import mysql.connector  \n",
    "import numpy as np"
   ]
  },
  {
   "cell_type": "markdown",
   "id": "c42e68a1-2f7c-4a13-9891-ee7b09a4bfcb",
   "metadata": {},
   "source": [
    "Coonecting to MySQL server to get refined table data"
   ]
  },
  {
   "cell_type": "code",
   "execution_count": 2,
   "id": "dbb0f0bc-62fe-4841-abec-9e2e7eb8fc67",
   "metadata": {},
   "outputs": [
    {
     "name": "stderr",
     "output_type": "stream",
     "text": [
      "C:\\Users\\umang\\AppData\\Local\\Programs\\Python\\Python310\\lib\\site-packages\\pandas\\io\\sql.py:761: UserWarning: pandas only support SQLAlchemy connectable(engine/connection) ordatabase string URI or sqlite3 DBAPI2 connectionother DBAPI2 objects are not tested, please consider using SQLAlchemy\n",
      "  warnings.warn(\n"
     ]
    }
   ],
   "source": [
    "try:\n",
    "    cnx = mysql.connector.connect(user='root', password='Be2502312Bit$',\n",
    "                              host='localhost',\n",
    "                              database='cricket_ipl')\n",
    "    query = \"select * from all_matches;\"\n",
    "    ipl_df = pd.read_sql(query, cnx)\n",
    "except Exception as e:\n",
    "    print(str(e))\n",
    "finally:\n",
    "     cnx.close()"
   ]
  },
  {
   "cell_type": "code",
   "execution_count": 3,
   "id": "00dc104c-545e-48ba-8ce6-101478fc29bf",
   "metadata": {},
   "outputs": [
    {
     "name": "stdout",
     "output_type": "stream",
     "text": [
      "<class 'pandas.core.frame.DataFrame'>\n",
      "RangeIndex: 225954 entries, 0 to 225953\n",
      "Data columns (total 25 columns):\n",
      " #   Column                  Non-Null Count   Dtype \n",
      "---  ------                  --------------   ----- \n",
      " 0   match_id                225954 non-null  object\n",
      " 1   season                  225954 non-null  object\n",
      " 2   start_date              225954 non-null  object\n",
      " 3   venue                   225954 non-null  object\n",
      " 4   innings                 225954 non-null  int64 \n",
      " 5   ball                    225954 non-null  object\n",
      " 6   batting_team            225954 non-null  object\n",
      " 7   bowling_team            225954 non-null  object\n",
      " 8   striker                 225954 non-null  object\n",
      " 9   non_striker             225954 non-null  object\n",
      " 10  bowler                  225954 non-null  object\n",
      " 11  runs_off_bat            225954 non-null  object\n",
      " 12  extras                  225954 non-null  object\n",
      " 13  wides                   225954 non-null  object\n",
      " 14  noballs                 225954 non-null  object\n",
      " 15  byes                    225954 non-null  object\n",
      " 16  legbyes                 225954 non-null  object\n",
      " 17  penalty                 225954 non-null  object\n",
      " 18  wicket_type             225954 non-null  object\n",
      " 19  player_dismissed        225954 non-null  object\n",
      " 20  other_wicket_type       225954 non-null  object\n",
      " 21  other_player_dismissed  225954 non-null  object\n",
      " 22  over_number             225954 non-null  object\n",
      " 23  ball_number             225954 non-null  object\n",
      " 24  total_runs_per_ball     225954 non-null  object\n",
      "dtypes: int64(1), object(24)\n",
      "memory usage: 43.1+ MB\n"
     ]
    }
   ],
   "source": [
    "ipl_df.info()"
   ]
  },
  {
   "cell_type": "markdown",
   "id": "3cc1b378-c12b-4d0d-9182-445ece462b96",
   "metadata": {},
   "source": [
    "Replacing null values with 0"
   ]
  },
  {
   "cell_type": "code",
   "execution_count": 4,
   "id": "8ee97819-5717-4033-8302-6a8c6d8666ed",
   "metadata": {},
   "outputs": [],
   "source": [
    "ipl_df[['wides','noballs','byes','legbyes','penalty']] = ipl_df[['wides','noballs','byes','legbyes','penalty']\n",
    "                                                               ].replace(to_replace='',value = '0')"
   ]
  },
  {
   "cell_type": "markdown",
   "id": "d07dd2e2-e0e7-4844-a298-3064d79b0a74",
   "metadata": {},
   "source": [
    "Changing data types of columns"
   ]
  },
  {
   "cell_type": "code",
   "execution_count": 5,
   "id": "cf93767d-f71b-4a71-9a9c-1ddba6e439fa",
   "metadata": {},
   "outputs": [
    {
     "name": "stdout",
     "output_type": "stream",
     "text": [
      "<class 'pandas.core.frame.DataFrame'>\n",
      "RangeIndex: 225954 entries, 0 to 225953\n",
      "Data columns (total 25 columns):\n",
      " #   Column                  Non-Null Count   Dtype         \n",
      "---  ------                  --------------   -----         \n",
      " 0   match_id                225954 non-null  int64         \n",
      " 1   season                  225954 non-null  int64         \n",
      " 2   start_date              225954 non-null  datetime64[ns]\n",
      " 3   venue                   225954 non-null  object        \n",
      " 4   innings                 225954 non-null  int64         \n",
      " 5   ball                    225954 non-null  object        \n",
      " 6   batting_team            225954 non-null  object        \n",
      " 7   bowling_team            225954 non-null  object        \n",
      " 8   striker                 225954 non-null  object        \n",
      " 9   non_striker             225954 non-null  object        \n",
      " 10  bowler                  225954 non-null  object        \n",
      " 11  runs_off_bat            225954 non-null  int64         \n",
      " 12  extras                  225954 non-null  int64         \n",
      " 13  wides                   225954 non-null  int64         \n",
      " 14  noballs                 225954 non-null  int64         \n",
      " 15  byes                    225954 non-null  int64         \n",
      " 16  legbyes                 225954 non-null  int64         \n",
      " 17  penalty                 225954 non-null  int64         \n",
      " 18  wicket_type             225954 non-null  object        \n",
      " 19  player_dismissed        225954 non-null  object        \n",
      " 20  other_wicket_type       225954 non-null  object        \n",
      " 21  other_player_dismissed  225954 non-null  object        \n",
      " 22  over_number             225954 non-null  int64         \n",
      " 23  ball_number             225954 non-null  float64       \n",
      " 24  total_runs_per_ball     225954 non-null  int64         \n",
      "dtypes: datetime64[ns](1), float64(1), int64(12), object(11)\n",
      "memory usage: 43.1+ MB\n"
     ]
    }
   ],
   "source": [
    "ipl_df['match_id'] = pd.to_numeric(ipl_df.match_id)\n",
    "ipl_df['season'] = pd.to_numeric(ipl_df.season)\n",
    "ipl_df['start_date'] = pd.to_datetime(ipl_df.start_date)\n",
    "ipl_df['runs_off_bat'] = pd.to_numeric(ipl_df.runs_off_bat)\n",
    "ipl_df['extras'] = pd.to_numeric(ipl_df.extras)\n",
    "ipl_df['wides'] = pd.to_numeric(ipl_df.wides)\n",
    "ipl_df['noballs'] = pd.to_numeric(ipl_df.noballs)\n",
    "ipl_df['byes'] = pd.to_numeric(ipl_df.byes)\n",
    "ipl_df['legbyes'] = pd.to_numeric(ipl_df.legbyes)\n",
    "ipl_df['penalty'] = pd.to_numeric(ipl_df.penalty)\n",
    "ipl_df['over_number'] = pd.to_numeric(ipl_df.over_number)\n",
    "ipl_df['total_runs_per_ball'] = pd.to_numeric(ipl_df.total_runs_per_ball)\n",
    "ipl_df['ball_number'] = pd.to_numeric(ipl_df.ball_number)\n",
    "ipl_df.info()"
   ]
  },
  {
   "cell_type": "markdown",
   "id": "66131297-39e6-4389-887b-94e915163bea",
   "metadata": {},
   "source": [
    "Deleting unwanted columns"
   ]
  },
  {
   "cell_type": "code",
   "execution_count": 6,
   "id": "3a9a5b59-e22e-498a-887c-3972118d75ab",
   "metadata": {},
   "outputs": [],
   "source": [
    "ipl_df.drop(['other_player_dismissed', 'other_wicket_type'], axis = 1, inplace = True)"
   ]
  },
  {
   "cell_type": "code",
   "execution_count": 7,
   "id": "e496f2d7-64b8-4ead-a23c-098f06fbd67d",
   "metadata": {},
   "outputs": [
    {
     "name": "stdout",
     "output_type": "stream",
     "text": [
      "<class 'pandas.core.frame.DataFrame'>\n",
      "RangeIndex: 225954 entries, 0 to 225953\n",
      "Data columns (total 23 columns):\n",
      " #   Column               Non-Null Count   Dtype         \n",
      "---  ------               --------------   -----         \n",
      " 0   match_id             225954 non-null  int64         \n",
      " 1   season               225954 non-null  int64         \n",
      " 2   start_date           225954 non-null  datetime64[ns]\n",
      " 3   venue                225954 non-null  object        \n",
      " 4   innings              225954 non-null  int64         \n",
      " 5   ball                 225954 non-null  object        \n",
      " 6   batting_team         225954 non-null  object        \n",
      " 7   bowling_team         225954 non-null  object        \n",
      " 8   striker              225954 non-null  object        \n",
      " 9   non_striker          225954 non-null  object        \n",
      " 10  bowler               225954 non-null  object        \n",
      " 11  runs_off_bat         225954 non-null  int64         \n",
      " 12  extras               225954 non-null  int64         \n",
      " 13  wides                225954 non-null  int64         \n",
      " 14  noballs              225954 non-null  int64         \n",
      " 15  byes                 225954 non-null  int64         \n",
      " 16  legbyes              225954 non-null  int64         \n",
      " 17  penalty              225954 non-null  int64         \n",
      " 18  wicket_type          225954 non-null  object        \n",
      " 19  player_dismissed     225954 non-null  object        \n",
      " 20  over_number          225954 non-null  int64         \n",
      " 21  ball_number          225954 non-null  float64       \n",
      " 22  total_runs_per_ball  225954 non-null  int64         \n",
      "dtypes: datetime64[ns](1), float64(1), int64(12), object(9)\n",
      "memory usage: 39.6+ MB\n"
     ]
    }
   ],
   "source": [
    "ipl_df.info()"
   ]
  },
  {
   "cell_type": "markdown",
   "id": "106c648f-7498-4925-9231-9ddcf0f06b9e",
   "metadata": {},
   "source": [
    "Saving dataframe to csv file"
   ]
  },
  {
   "cell_type": "code",
   "execution_count": 8,
   "id": "50da6b68-2ed9-47fb-8096-b8e935ea92ba",
   "metadata": {},
   "outputs": [],
   "source": [
    "ipl_df.to_csv('all_matches.csv')"
   ]
  }
 ],
 "metadata": {
  "kernelspec": {
   "display_name": "Python 3 (ipykernel)",
   "language": "python",
   "name": "python3"
  },
  "language_info": {
   "codemirror_mode": {
    "name": "ipython",
    "version": 3
   },
   "file_extension": ".py",
   "mimetype": "text/x-python",
   "name": "python",
   "nbconvert_exporter": "python",
   "pygments_lexer": "ipython3",
   "version": "3.10.5"
  }
 },
 "nbformat": 4,
 "nbformat_minor": 5
}
