{
 "cells": [
  {
   "cell_type": "code",
   "execution_count": 1,
   "id": "9df51fdc-8d13-49bb-a28a-17eb15ecf76b",
   "metadata": {},
   "outputs": [],
   "source": [
    "import pandas as pd\n",
    "import matplotlib.pyplot as plt\n",
    "import seaborn as sns\n",
    "%matplotlib inline\n",
    "import calendar as cld\n",
    "import mysql.connector  \n",
    "import numpy as np"
   ]
  },
  {
   "cell_type": "code",
   "execution_count": 2,
   "id": "b3f96fd8-9763-4992-a0c0-9b5d565253e9",
   "metadata": {},
   "outputs": [],
   "source": [
    "import glob\n",
    "import os"
   ]
  },
  {
   "cell_type": "markdown",
   "id": "c64e7bce-5820-44f8-90d8-534190a11d60",
   "metadata": {},
   "source": [
    "Merging csv files (>950) for match specific info"
   ]
  },
  {
   "cell_type": "code",
   "execution_count": 3,
   "id": "80709699-6c52-4d98-8e9f-fd836e0ea6d0",
   "metadata": {},
   "outputs": [],
   "source": [
    "all_files = glob.glob(\"E:/Portfolio Project/Data/Cricksheet IPL/ipl_csv2/*_info.csv\")\n",
    "li = []\n",
    "for file in all_files:\n",
    "    df = pd.read_csv(file, index_col=False, header=None, on_bad_lines='skip', skiprows=[0,1]).drop(0, axis=1).T\n",
    "    df.columns = df.loc[1]\n",
    "    df = df.drop([1], axis = 0)\n",
    "    file_name = str(file).split('\\\\')[1].split('_')[0]\n",
    "    df.insert(0, 'Match_ID', file_name)\n",
    "    df = df.reset_index(drop=True)\n",
    "    columns = list(df.columns)\n",
    "    if 'winner_runs' in columns:\n",
    "        df['Margin'] = df['winner_runs']\n",
    "        df['Margin_Type'] = 'runs'\n",
    "        \n",
    "    elif 'winner_wickets' in columns:\n",
    "        df['Margin'] = df['winner_wickets']\n",
    "        df['Margin_Type'] = 'wickets'\n",
    "        \n",
    "    elif (('winner' not in columns) and ('outcome' in columns)):\n",
    "        df['winner'] = None\n",
    "        df['Margin'] = 0\n",
    "        df['player_of_match'] = None\n",
    "        df['Margin_Type'] = 'Tie'\n",
    "        \n",
    "    df = df[['Match_ID', 'team', 'season', 'date',\n",
    "             'venue', 'city', 'toss_winner', 'toss_decision',\n",
    "             'winner', 'Margin', 'Margin_Type', 'player_of_match']]\n",
    "    df.set_index('Match_ID')\n",
    "    li.append(df)\n",
    "match_info = pd.concat(li, axis=0, ignore_index=True)"
   ]
  },
  {
   "cell_type": "markdown",
   "id": "7893a6b0-083d-40d6-8175-b639bd5c1037",
   "metadata": {},
   "source": [
    "Cleaning 'season' column"
   ]
  },
  {
   "cell_type": "code",
   "execution_count": 4,
   "id": "d5c62571-3972-461b-a9b1-afb97aa29e9c",
   "metadata": {},
   "outputs": [
    {
     "data": {
      "text/plain": [
       "array(['2017', '2018', '2019', '2020', '2021', '2022', '2008', '2009',\n",
       "       '2010', '2011', '2012', '2013', '2014', '2015', '2016'],\n",
       "      dtype=object)"
      ]
     },
     "execution_count": 4,
     "metadata": {},
     "output_type": "execute_result"
    }
   ],
   "source": [
    "match_info.loc[match_info['season'] == '2007/08', 'season'] = '2008'\n",
    "match_info.loc[match_info['season'] == '2009/10', 'season'] = '2010'\n",
    "match_info.loc[match_info['season'] == '2020/21', 'season'] = '2020'\n",
    "match_info.season.unique()"
   ]
  },
  {
   "cell_type": "markdown",
   "id": "5ae9addf-efa0-48f7-a5df-dd2a9939b7c6",
   "metadata": {},
   "source": [
    "Checking 'venue' column"
   ]
  },
  {
   "cell_type": "code",
   "execution_count": 5,
   "id": "f2259997-4d62-4f85-9094-118051fc60e2",
   "metadata": {
    "tags": []
   },
   "outputs": [
    {
     "data": {
      "text/plain": [
       "array(['Rajiv Gandhi International Stadium, Uppal',\n",
       "       'Maharashtra Cricket Association Stadium',\n",
       "       'Saurashtra Cricket Association Stadium', 'Holkar Cricket Stadium',\n",
       "       'M.Chinnaswamy Stadium', 'Wankhede Stadium', 'Eden Gardens',\n",
       "       'M Chinnaswamy Stadium', 'Feroz Shah Kotla',\n",
       "       'Punjab Cricket Association IS Bindra Stadium, Mohali',\n",
       "       'Green Park', 'Punjab Cricket Association IS Bindra Stadium',\n",
       "       'Rajiv Gandhi International Stadium', 'MA Chidambaram Stadium',\n",
       "       'Sawai Mansingh Stadium', 'Arun Jaitley Stadium',\n",
       "       'Dr. Y.S. Rajasekhara Reddy ACA-VDCA Cricket Stadium',\n",
       "       'Sheikh Zayed Stadium', 'Dubai International Cricket Stadium',\n",
       "       'Sharjah Cricket Stadium',\n",
       "       'MA Chidambaram Stadium, Chepauk, Chennai',\n",
       "       'Wankhede Stadium, Mumbai', 'Narendra Modi Stadium, Ahmedabad',\n",
       "       'Arun Jaitley Stadium, Delhi', 'Zayed Cricket Stadium, Abu Dhabi',\n",
       "       'Brabourne Stadium, Mumbai', 'Dr DY Patil Sports Academy, Mumbai',\n",
       "       'Maharashtra Cricket Association Stadium, Pune',\n",
       "       'Eden Gardens, Kolkata',\n",
       "       'Punjab Cricket Association Stadium, Mohali',\n",
       "       'MA Chidambaram Stadium, Chepauk', 'Dr DY Patil Sports Academy',\n",
       "       'Newlands', \"St George's Park\", 'Kingsmead', 'SuperSport Park',\n",
       "       'Buffalo Park', 'New Wanderers Stadium', 'De Beers Diamond Oval',\n",
       "       'OUTsurance Oval', 'Brabourne Stadium',\n",
       "       'Sardar Patel Stadium, Motera', 'Barabati Stadium',\n",
       "       'Vidarbha Cricket Association Stadium, Jamtha',\n",
       "       'Himachal Pradesh Cricket Association Stadium', 'Nehru Stadium',\n",
       "       'Subrata Roy Sahara Stadium',\n",
       "       'Shaheed Veer Narayan Singh International Stadium',\n",
       "       'JSCA International Stadium Complex'], dtype=object)"
      ]
     },
     "execution_count": 5,
     "metadata": {},
     "output_type": "execute_result"
    }
   ],
   "source": [
    "match_info.venue.unique()"
   ]
  },
  {
   "cell_type": "markdown",
   "id": "aa872bb2-a8e6-4cfb-8771-805f553110e7",
   "metadata": {},
   "source": [
    "Cleaning 'venue' column & removing duplicates"
   ]
  },
  {
   "cell_type": "code",
   "execution_count": 6,
   "id": "3dcec8de-3907-485e-9d62-0864849013c2",
   "metadata": {},
   "outputs": [
    {
     "data": {
      "text/plain": [
       "array(['Rajiv Gandhi International Stadium',\n",
       "       'Maharashtra Cricket Association Stadium',\n",
       "       'Saurashtra Cricket Association Stadium', 'Holkar Cricket Stadium',\n",
       "       'M Chinnaswamy Stadium', 'Wankhede Stadium', 'Eden Gardens',\n",
       "       'Arun Jaitley Stadium',\n",
       "       'Punjab Cricket Association IS Bindra Stadium', 'Green Park',\n",
       "       'MA Chidambaram Stadium', 'Sawai Mansingh Stadium',\n",
       "       'Dr. Y.S. Rajasekhara Reddy ACA-VDCA Cricket Stadium',\n",
       "       'Sheikh Zayed Stadium', 'Dubai International Cricket Stadium',\n",
       "       'Sharjah Cricket Stadium', 'Narendra Modi Stadium, Ahmedabad',\n",
       "       'Brabourne Stadium', 'Dr DY Patil Sports Academy', 'Newlands',\n",
       "       \"St George's Park\", 'Kingsmead', 'SuperSport Park', 'Buffalo Park',\n",
       "       'New Wanderers Stadium', 'De Beers Diamond Oval',\n",
       "       'OUTsurance Oval', 'Sardar Patel Stadium, Motera',\n",
       "       'Barabati Stadium', 'Vidarbha Cricket Association Stadium, Jamtha',\n",
       "       'Himachal Pradesh Cricket Association Stadium', 'Nehru Stadium',\n",
       "       'Shaheed Veer Narayan Singh International Stadium',\n",
       "       'JSCA International Stadium Complex'], dtype=object)"
      ]
     },
     "execution_count": 6,
     "metadata": {},
     "output_type": "execute_result"
    }
   ],
   "source": [
    "match_info.loc[match_info['venue'] == 'Arun Jaitley Stadium, Delhi', 'venue'] = 'Arun Jaitley Stadium'\n",
    "match_info.loc[match_info['venue'] == 'Brabourne Stadium, Mumbai', 'venue'] = 'Brabourne Stadium'\n",
    "match_info.loc[match_info['venue'] == 'Dr DY Patil Sports Academy, Mumbai', 'venue'] = 'Dr DY Patil Sports Academy'\n",
    "match_info.loc[match_info['venue'] == 'Eden Gardens, Kolkata', 'venue'] = 'Eden Gardens'\n",
    "match_info.loc[match_info['venue'] == 'M.Chinnaswamy Stadium', 'venue'] = 'M Chinnaswamy Stadium'\n",
    "match_info.loc[match_info['venue'] == 'Rajiv Gandhi International Stadium, Uppal', 'venue'] = 'Rajiv Gandhi International Stadium'\n",
    "match_info.loc[match_info['venue'] == 'Wankhede Stadium, Mumbai', 'venue'] = 'Wankhede Stadium'\n",
    "match_info.loc[match_info['venue'] == 'Zayed Cricket Stadium, Abu Dhabi', 'venue'] = 'Arun Jaitley Stadium'\n",
    "match_info.loc[match_info['venue'] == 'Feroz Shah Kotla', 'venue'] = 'Arun Jaitley Stadium'\n",
    "match_info.loc[match_info['venue'].isin(['MA Chidambaram Stadium, Chepauk', 'MA Chidambaram Stadium, Chepauk, Chennai']), 'venue'] = 'MA Chidambaram Stadium'\n",
    "match_info.loc[match_info['venue'].isin(['Maharashtra Cricket Association Stadium, Pune', 'Subrata Roy Sahara Stadium']), 'venue'] = 'Maharashtra Cricket Association Stadium'\n",
    "match_info.loc[match_info['venue'].isin(['Punjab Cricket Association Stadium, Mohali', 'Punjab Cricket Association IS Bindra Stadium, Mohali']), 'venue'] = 'Punjab Cricket Association IS Bindra Stadium'\n",
    "match_info.venue.unique()"
   ]
  },
  {
   "cell_type": "markdown",
   "id": "b2a4e107-52e9-44db-a0b0-f9ad01efc706",
   "metadata": {},
   "source": [
    "Filling Empty Cells for column 'city'"
   ]
  },
  {
   "cell_type": "code",
   "execution_count": 7,
   "id": "727b9b63-aeb1-45ec-af82-ccce2803fcd0",
   "metadata": {},
   "outputs": [
    {
     "data": {
      "text/plain": [
       "array(['Dubai International Cricket Stadium', 'Sharjah Cricket Stadium'],\n",
       "      dtype=object)"
      ]
     },
     "execution_count": 7,
     "metadata": {},
     "output_type": "execute_result"
    }
   ],
   "source": [
    "match_info[match_info['city'].isnull()].venue.unique()"
   ]
  },
  {
   "cell_type": "code",
   "execution_count": 8,
   "id": "5df54902-4b81-4394-80a6-f62d58f11fd4",
   "metadata": {},
   "outputs": [
    {
     "data": {
      "text/plain": [
       "array([], dtype=object)"
      ]
     },
     "execution_count": 8,
     "metadata": {},
     "output_type": "execute_result"
    }
   ],
   "source": [
    "match_info.loc[match_info['venue'] == 'Dubai International Cricket Stadium', 'city'] = 'Dubai'\n",
    "match_info.loc[match_info['venue'] == 'Sharjah Cricket Stadium', 'city'] = 'Sharjah'\n",
    "match_info[match_info['city'].isnull()].venue.unique()"
   ]
  },
  {
   "cell_type": "markdown",
   "id": "f9f65147-6e1d-434b-9bbc-a9ad4ac97877",
   "metadata": {},
   "source": [
    "Renaming duplicate columns"
   ]
  },
  {
   "cell_type": "code",
   "execution_count": 9,
   "id": "9be4547c-38c5-42df-9960-53cd558bfbd5",
   "metadata": {},
   "outputs": [
    {
     "data": {
      "text/plain": [
       "Index(['Match_ID', 'team', 'team', 'season', 'date', 'venue', 'city',\n",
       "       'toss_winner', 'toss_decision', 'winner', 'Margin', 'Margin_Type',\n",
       "       'player_of_match'],\n",
       "      dtype='object', name=1)"
      ]
     },
     "execution_count": 9,
     "metadata": {},
     "output_type": "execute_result"
    }
   ],
   "source": [
    "match_info.columns"
   ]
  },
  {
   "cell_type": "code",
   "execution_count": 10,
   "id": "82c18c75-fd52-46e4-bda3-86897e4d7a81",
   "metadata": {},
   "outputs": [
    {
     "data": {
      "text/plain": [
       "Index(['Match_ID', 'team1', 'team2', 'season', 'date', 'venue', 'city',\n",
       "       'toss_winner', 'toss_decision', 'winner', 'Margin', 'Margin_Type',\n",
       "       'player_of_match'],\n",
       "      dtype='object', name=1)"
      ]
     },
     "execution_count": 10,
     "metadata": {},
     "output_type": "execute_result"
    }
   ],
   "source": [
    "match_info.columns.values[1] = 'team1'\n",
    "match_info.columns.values[2] = 'team2'\n",
    "match_info.columns"
   ]
  },
  {
   "cell_type": "markdown",
   "id": "43d8dbf9-a684-4a14-8960-7ac2682bde55",
   "metadata": {},
   "source": [
    "Changing datatypes of columns"
   ]
  },
  {
   "cell_type": "code",
   "execution_count": 14,
   "id": "60fb7751-d837-466c-b4c9-82f8ef88f701",
   "metadata": {},
   "outputs": [
    {
     "name": "stdout",
     "output_type": "stream",
     "text": [
      "<class 'pandas.core.frame.DataFrame'>\n",
      "RangeIndex: 950 entries, 0 to 949\n",
      "Data columns (total 13 columns):\n",
      " #   Column           Non-Null Count  Dtype         \n",
      "---  ------           --------------  -----         \n",
      " 0   Match_ID         950 non-null    int64         \n",
      " 1   team1            950 non-null    object        \n",
      " 2   team2            950 non-null    object        \n",
      " 3   season           950 non-null    int64         \n",
      " 4   date             950 non-null    datetime64[ns]\n",
      " 5   venue            950 non-null    object        \n",
      " 6   city             950 non-null    object        \n",
      " 7   toss_winner      950 non-null    object        \n",
      " 8   toss_decision    950 non-null    object        \n",
      " 9   winner           932 non-null    object        \n",
      " 10  Margin           950 non-null    int64         \n",
      " 11  Margin_Type      950 non-null    object        \n",
      " 12  player_of_match  932 non-null    object        \n",
      "dtypes: datetime64[ns](1), int64(3), object(9)\n",
      "memory usage: 96.6+ KB\n"
     ]
    }
   ],
   "source": [
    "match_info['date'] = pd.to_datetime(match_info.date)\n",
    "match_info['Match_ID'] = pd.to_numeric(match_info.Match_ID)\n",
    "match_info['season'] = pd.to_numeric(match_info.season)\n",
    "match_info['Margin'] = pd.to_numeric(match_info.Margin)\n",
    "match_info.info()"
   ]
  },
  {
   "cell_type": "markdown",
   "id": "e38a5e4c-cb67-4c6e-b1eb-a959e8f0c272",
   "metadata": {},
   "source": [
    "Removing duplicates in column 'team1' & 'team2'"
   ]
  },
  {
   "cell_type": "code",
   "execution_count": 12,
   "id": "4b2d860a-ef55-4520-bbdd-183b4e2888a5",
   "metadata": {},
   "outputs": [],
   "source": [
    "match_info.replace('Kings XI Punjab', 'Punjab Kings', inplace = True)\n",
    "match_info.replace('Rising Pune Supergiant', 'Rising Pune Supergiants', inplace = True)"
   ]
  },
  {
   "cell_type": "markdown",
   "id": "3cb69642-db4e-4276-bfb4-a46822c4e517",
   "metadata": {},
   "source": [
    "Saving dataframe to csv file"
   ]
  },
  {
   "cell_type": "code",
   "execution_count": 13,
   "id": "5be5027e-a488-4332-8bce-76ae7986f8eb",
   "metadata": {},
   "outputs": [],
   "source": [
    "match_info.to_csv('matches_info.csv')"
   ]
  }
 ],
 "metadata": {
  "kernelspec": {
   "display_name": "Python 3 (ipykernel)",
   "language": "python",
   "name": "python3"
  },
  "language_info": {
   "codemirror_mode": {
    "name": "ipython",
    "version": 3
   },
   "file_extension": ".py",
   "mimetype": "text/x-python",
   "name": "python",
   "nbconvert_exporter": "python",
   "pygments_lexer": "ipython3",
   "version": "3.10.5"
  }
 },
 "nbformat": 4,
 "nbformat_minor": 5
}
